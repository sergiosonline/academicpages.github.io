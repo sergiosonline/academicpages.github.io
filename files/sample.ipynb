{
 "cells": [
  {
   "cell_type": "markdown",
   "metadata": {},
   "source": [
    "# Identifying Units and Matching Proc for Experiment"
   ]
  },
  {
   "cell_type": "markdown",
   "metadata": {},
   "source": [
    "With the promise of a social graph at Nextdoor, we'd like to understand any behavioral changes (potentially) elicited by incremental social capabilities.\n",
    "\n",
    "In order to do this, we can't randomly assign neighborhoods to Variant (social capabilities) and Control (no social).\n",
    "\n",
    "We can abstract to the DMA level to preserve the functionality of social capabilities."
   ]
  },
  {
   "cell_type": "code",
   "execution_count": 1,
   "metadata": {
    "pycharm": {
     "name": "#%%\n"
    }
   },
   "outputs": [],
   "source": [
    "import re, os, sys\n",
    "import numpy as np\n",
    "import pandas as pd\n",
    "import seaborn as sns\n",
    "from sklearn import preprocessing\n",
    "\n",
    "# Import custom qubole workflow\n",
    "reference_path = os.getcwd()\n",
    "sys.path.append('../../..') # go up to `data-science/ level`\n",
    "from utils import qubole"
   ]
  },
  {
   "cell_type": "markdown",
   "metadata": {
    "pycharm": {
     "name": "#%% md\n"
    }
   },
   "source": [
    "## Data Pull"
   ]
  },
  {
   "cell_type": "code",
   "execution_count": 2,
   "metadata": {
    "pycharm": {
     "name": "#%%\n"
    }
   },
   "outputs": [
    {
     "name": "stdout",
     "output_type": "stream",
     "text": [
      "Selected query:\n",
      " WITH\n",
      "     temp_parameters AS (\n",
      "        SELECT\n",
      "            CAST('2020-01-01' AS DATE) AS ref_date\n",
      "            , 'US' AS ref_country\n",
      "    )\n",
      "    , hood_demographic_features AS (\n",
      "        SELECT\n",
      "            nk.neighborhood_id\n",
      "\t        , nd.dma_name AS dma_name\n",
      "            , nd.city\n",
      "            , nd.state\n",
      "            , nd.launch_datetime\n",
      "            , CAST(to_unixtime(nd.launch_datetime) AS BIGINT) as epoch_launch_datetime\n",
      "            , nk.race_pcnt_black\n",
      "            , nk.race_pcnt_white\n",
      "            , nk.race_pcnt_asian\n",
      "            , nk.race_pcnt_other\n",
      "            , nk.homes_per_square_mile\n",
      "            , nk.median_family_income\n",
      "            , nk.home_owners\n",
      "            , nk.age_pcnt_34_and_younger\n",
      "            , nk.age_pcnt_65_and_older\n",
      "        FROM p_dwh.neighborhood_key_demographics nk\n",
      "        INNER JOIN p_dwh.neighborhood_detail nd\n",
      "            ON\n",
      "                nk.neighborhood_id = nd.neighborhood_id\n",
      "                AND nd.country = (SELECT ref_country FROM temp_parameters)\n",
      "        INNER JOIN p_dwh.retention_model_features nf\n",
      "            ON nk.neighborhood_id = nf.neighborhood_id\n",
      "    )\n",
      "    , hood_usage_features AS (\n",
      "        SELECT\n",
      "            neighborhood_id\n",
      "            , AVG(has_app) AS pcnt_has_app\n",
      "            , AVG(days_since_last_platform_visit) AS avg_days_since_visit\n",
      "            , AVG(total_sessions_30d) AS avg_total_sessions_30d\n",
      "            , AVG(mean_session_duration_30d) AS avg_avg_session_duration_30d\n",
      "            , AVG(story_views_30d) AS avg_story_views_30d\n",
      "            , AVG(thanks_30d) AS avg_thanks_30d\n",
      "            , AVG(click_rate_30d) AS avg_click_rate_30d\n",
      "            , AVG(count_posts_30d) AS avg_posts_30d\n",
      "            , AVG(count_comments_30d) AS avg_comments_30d\n",
      "        FROM p_dwh.retention_model_features\n",
      "        WHERE neighborhood_id IN (SELECT DISTINCT neighborhood_id FROM  hood_demographic_features)\n",
      "        GROUP BY neighborhood_id\n",
      "    )\n",
      "    , dma_agg_features AS (\n",
      "        SELECT\n",
      "\t        hd.dma_name AS dma_name\n",
      "            , MAX(hd.state) AS state_\n",
      "            , MIN(hd.epoch_launch_datetime) AS first_epoch_launch_datetime\n",
      "            , COUNT(DISTINCT hd.neighborhood_id) AS distinct_hoods\n",
      "            , AVG(hd.race_pcnt_black) AS avg_avg_pcnt_black\n",
      "            , AVG(hd.race_pcnt_white) AS avg_avg_pcnt_white\n",
      "            , AVG(hd.race_pcnt_asian) AS avg_avg_pcnt_asian\n",
      "            , AVG(hd.race_pcnt_other) AS avg_avg_pcnt_other\n",
      "            , AVG(hd.homes_per_square_mile) AS avg_avg_homes_p_sq_mile\n",
      "            , AVG(hd.median_family_income) AS avg_median_fam_income\n",
      "            , AVG(hd.home_owners) AS avg_avg_homeowner_rate\n",
      "            , AVG(hd.age_pcnt_34_and_younger) AS avg_pcnt_34_and_younger\n",
      "            , AVG(hd.age_pcnt_65_and_older) AS avg_pcnt_65_and_older\n",
      "            , AVG(hu.pcnt_has_app) AS avg_pcnt_has_app\n",
      "            , AVG(avg_days_since_visit) AS avg_avg_days_since_visit\n",
      "            , AVG(avg_total_sessions_30d) AS avg_avg_total_sessions_30d\n",
      "            , AVG(avg_avg_session_duration_30d) AS avg_avg_avg_session_duration\n",
      "            , AVG(avg_story_views_30d) AS avg_avg_story_views\n",
      "            , AVG(avg_thanks_30d) AS avg_avg_thanks_30d\n",
      "            , AVG(avg_click_rate_30d) AS avg_avg_click_rate_30d\n",
      "            , AVG(avg_posts_30d) AS avg_avg_posts_30d\n",
      "            , AVG(avg_comments_30d) AS avg_avg_comments_30d\n",
      "        FROM hood_demographic_features hd\n",
      "        INNER JOIN hood_usage_features hu\n",
      "            ON hd.neighborhood_id = hu.neighborhood_id\n",
      "        GROUP BY hd.dma_name\n",
      "    )\n",
      "\n",
      "SELECT *\n",
      "FROM dma_agg_features\n",
      "Query returns table of shape: (211, 22)\n",
      "Head of table:                               dma_name state_  first_epoch_launch_datetime  \\\n",
      "0  Norfolk-Portsmouth-Newport News, VA     VA                   1321154138   \n",
      "1                       Alexandria, LA     LA                   1375895326   \n",
      "2                       San Angelo, TX     TX                   1378256115   \n",
      "3                           Topeka, KS     KS                   1321978943   \n",
      "4                      Springfield, MO     MO                   1319555459   \n",
      "\n",
      "   distinct_hoods  avg_avg_pcnt_black  avg_avg_pcnt_white  avg_avg_pcnt_asian  \\\n",
      "0            1952            0.193992            0.723042            0.040485   \n",
      "1             115            0.180053            0.779321            0.014706   \n",
      "2             100            0.026873            0.893042            0.012643   \n",
      "3             307            0.050847            0.876779            0.017288   \n",
      "4             802            0.016513            0.931823            0.012738   \n",
      "\n",
      "   avg_avg_pcnt_other  avg_avg_homes_p_sq_mile  avg_median_fam_income  ...  \\\n",
      "0            0.042225              3635.012151           87529.198885  ...   \n",
      "1            0.025920              1309.344708           69480.958787  ...   \n",
      "2            0.067401              2113.337700           70106.400372  ...   \n",
      "3            0.055078              2093.308443           74982.433628  ...   \n",
      "4            0.038927              1492.378414           61509.082729  ...   \n",
      "\n",
      "   avg_pcnt_65_and_older  avg_pcnt_has_app  avg_avg_days_since_visit  \\\n",
      "0               0.203445          0.705189                  5.680278   \n",
      "1               0.259007          0.643337                  7.176273   \n",
      "2               0.248240          0.730657                  6.362143   \n",
      "3               0.211629          0.643201                  6.714285   \n",
      "4               0.252325          0.645018                  6.857995   \n",
      "\n",
      "   avg_avg_total_sessions_30d  avg_avg_avg_session_duration  \\\n",
      "0                   19.210718                      5.123790   \n",
      "1                   10.389996                      3.912635   \n",
      "2                   14.859874                      4.180424   \n",
      "3                   12.071896                      4.105976   \n",
      "4                   12.257773                      4.167231   \n",
      "\n",
      "   avg_avg_story_views  avg_avg_thanks_30d  avg_avg_click_rate_30d  \\\n",
      "0           175.210918            1.699528                0.306529   \n",
      "1            59.635531            0.582366                0.259722   \n",
      "2           116.479396            1.153652                0.303753   \n",
      "3            80.775286            0.761175                0.264306   \n",
      "4            77.436139            0.996611                0.309729   \n",
      "\n",
      "   avg_avg_posts_30d  avg_avg_comments_30d  \n",
      "0         494.351419           3858.788106  \n",
      "1          77.719480            337.377798  \n",
      "2         255.831637           1727.707150  \n",
      "3         174.808301            884.446523  \n",
      "4         161.721532            961.672620  \n",
      "\n",
      "[5 rows x 22 columns]\n"
     ]
    }
   ],
   "source": [
    "# Read first query\n",
    "units_query_file = './queries/hoods_rolled_up_to_dmas.sql'\n",
    "with open(units_query_file, 'r') as f:\n",
    "    units_query_str = f.read()\n",
    "    print(f\"Selected query:\\n {units_query_str}\")\n",
    "\n",
    "# Execute Query against Qubole\n",
    "units_query_results = qubole.read_presto(units_query_str)\n",
    "print(f\"Query returns table of shape: {units_query_results.shape}\")\n",
    "print(f\"Head of table: {units_query_results.head(5)}\")\n",
    "\n",
    "# Dump table to local csv\n",
    "units_query_results.to_csv('./dma_agg_20210715.csv', index=False)"
   ]
  },
  {
   "cell_type": "markdown",
   "metadata": {
    "pycharm": {
     "name": "#%% md\n"
    }
   },
   "source": [
    "## Data Formatting"
   ]
  },
  {
   "cell_type": "markdown",
   "metadata": {
    "pycharm": {
     "name": "#%% md\n"
    }
   },
   "source": [
    "If we want to match pairs of similar DMAs along a set of features, then we need to make sure that all of the features are scaled.\n",
    "\n",
    "Let $K$ denote an $n \\times m$ matrix consisting of $n$ DMAs and $m$ features. We can calculate a pairwaise distance for each pair of rows, and thus get an $n \\times n$ matrix, $X$, where $x_{i,j}$ is the entry in the ith row and jth column.\n",
    "\n",
    "Let $D:\\mathbb{R}^m \\times \\mathbb{R}^m \\mapsto \\mathbb{R}^+$ be a distance metric. Then:"
   ]
  },
  {
   "cell_type": "markdown",
   "metadata": {},
   "source": [
    "$$\n",
    "x_{i,j} = D(K_{i,\\cdot}, K_{j, \\cdot})\n",
    "$$"
   ]
  },
  {
   "cell_type": "markdown",
   "metadata": {},
   "source": [
    "There are multiple distance/similarity metrics $D$ available for this calculation, and each has certain considerations:\n",
    "* [Mahalanobis](https://en.wikipedia.org/wiki/Mahalanobis_distance)\n",
    "* [Cosine](https://en.wikipedia.org/wiki/Cosine_similarity)\n",
    "* [Euclidian](https://en.wikipedia.org/wiki/Euclidean_distance)\n",
    "* ..."
   ]
  },
  {
   "cell_type": "code",
   "execution_count": 3,
   "metadata": {
    "pycharm": {
     "name": "#%%\n"
    }
   },
   "outputs": [],
   "source": [
    "X =  units_query_results.set_index('dma_name').drop(columns=['state_'])"
   ]
  },
  {
   "cell_type": "code",
   "execution_count": 4,
   "metadata": {
    "pycharm": {
     "name": "#%%\n"
    }
   },
   "outputs": [
    {
     "name": "stdout",
     "output_type": "stream",
     "text": [
      "[[-0.56526009  0.53965405  1.92328263 -1.55109749  0.30005477]\n",
      " [ 1.08528687 -0.65661536  1.70939359 -0.86760083 -0.45217311]\n",
      " [ 1.15646898 -0.66638348 -0.6410845   0.51351331 -0.51236694]\n",
      " [-0.54039071 -0.53158339 -0.27321523  0.31599471 -0.3768301 ]\n",
      " [-0.61346318 -0.20923534 -0.80005542  0.98449278 -0.50960378]]\n"
     ]
    }
   ],
   "source": [
    "scaler = preprocessing.StandardScaler()\n",
    "X_scaled = scaler.fit_transform(X)\n",
    "print(X_scaled[:5,:5])\n"
   ]
  },
  {
   "cell_type": "code",
   "execution_count": 4,
   "metadata": {
    "pycharm": {
     "name": "#%%\n"
    }
   },
   "outputs": [],
   "source": []
  }
 ],
 "metadata": {
  "kernelspec": {
   "display_name": "Python 3",
   "language": "python",
   "name": "python3"
  },
  "language_info": {
   "codemirror_mode": {
    "name": "ipython",
    "version": 3
   },
   "file_extension": ".py",
   "mimetype": "text/x-python",
   "name": "python",
   "nbconvert_exporter": "python",
   "pygments_lexer": "ipython3",
   "version": "3.9.5"
  }
 },
 "nbformat": 4,
 "nbformat_minor": 1
}
